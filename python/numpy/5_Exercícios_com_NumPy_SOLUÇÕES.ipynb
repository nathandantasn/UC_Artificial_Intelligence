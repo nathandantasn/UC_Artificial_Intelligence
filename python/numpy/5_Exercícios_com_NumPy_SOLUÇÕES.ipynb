{
  "nbformat": 4,
  "nbformat_minor": 0,
  "metadata": {
    "colab": {
      "provenance": [],
      "collapsed_sections": []
    },
    "kernelspec": {
      "name": "python3",
      "display_name": "Python 3"
    },
    "language_info": {
      "name": "python"
    }
  },
  "cells": [
    {
      "cell_type": "markdown",
      "source": [
        "#Exercícios com NumPy"
      ],
      "metadata": {
        "id": "KqUtznqcD8_E"
      }
    },
    {
      "cell_type": "markdown",
      "source": [
        "##### Importar NumPy como np"
      ],
      "metadata": {
        "id": "t1ViP5-mEFdr"
      }
    },
    {
      "cell_type": "code",
      "source": [
        "import numpy as np"
      ],
      "metadata": {
        "id": "73Lz0nv7EDuu"
      },
      "execution_count": 1,
      "outputs": []
    },
    {
      "cell_type": "markdown",
      "source": [
        "####Criar uma array com 10 zeros"
      ],
      "metadata": {
        "id": "5DuB6jqEEHwT"
      }
    },
    {
      "cell_type": "code",
      "source": [
        "np.zeros(10)"
      ],
      "metadata": {
        "id": "ygCyHFgbEKq8",
        "colab": {
          "base_uri": "https://localhost:8080/"
        },
        "outputId": "44c45a85-6fef-446b-8c6a-f6b9e490d8ee"
      },
      "execution_count": 2,
      "outputs": [
        {
          "output_type": "execute_result",
          "data": {
            "text/plain": [
              "array([0., 0., 0., 0., 0., 0., 0., 0., 0., 0.])"
            ]
          },
          "metadata": {},
          "execution_count": 2
        }
      ]
    },
    {
      "cell_type": "markdown",
      "source": [
        "####Criar uma array com 10 uns"
      ],
      "metadata": {
        "id": "D_hjAEgpELeb"
      }
    },
    {
      "cell_type": "code",
      "source": [
        "np.ones(10)"
      ],
      "metadata": {
        "id": "iDJhRJ4PEONk",
        "colab": {
          "base_uri": "https://localhost:8080/"
        },
        "outputId": "f2358728-b8eb-43f7-82da-a03cbd1508d7"
      },
      "execution_count": 3,
      "outputs": [
        {
          "output_type": "execute_result",
          "data": {
            "text/plain": [
              "array([1., 1., 1., 1., 1., 1., 1., 1., 1., 1.])"
            ]
          },
          "metadata": {},
          "execution_count": 3
        }
      ]
    },
    {
      "cell_type": "markdown",
      "source": [
        "####Criar um array com 10 cincos"
      ],
      "metadata": {
        "id": "JA45ASFWEOm7"
      }
    },
    {
      "cell_type": "code",
      "source": [
        "np.ones(10) * 5"
      ],
      "metadata": {
        "id": "HZEYtjTSEVx0",
        "colab": {
          "base_uri": "https://localhost:8080/"
        },
        "outputId": "2611a7c3-d111-4e8d-de25-5d10bcff3090"
      },
      "execution_count": 4,
      "outputs": [
        {
          "output_type": "execute_result",
          "data": {
            "text/plain": [
              "array([5., 5., 5., 5., 5., 5., 5., 5., 5., 5.])"
            ]
          },
          "metadata": {},
          "execution_count": 4
        }
      ]
    },
    {
      "cell_type": "markdown",
      "source": [
        "####Criar um array com os inteiros de 10 até 50"
      ],
      "metadata": {
        "id": "7Csb6LJBEW1r"
      }
    },
    {
      "cell_type": "code",
      "source": [
        "np.arange(10,51)"
      ],
      "metadata": {
        "id": "SgKhzbD8Ed4k",
        "colab": {
          "base_uri": "https://localhost:8080/"
        },
        "outputId": "b1c6ef5b-171a-48a2-c1d7-3a5f021b45c0"
      },
      "execution_count": 5,
      "outputs": [
        {
          "output_type": "execute_result",
          "data": {
            "text/plain": [
              "array([10, 11, 12, 13, 14, 15, 16, 17, 18, 19, 20, 21, 22, 23, 24, 25, 26,\n",
              "       27, 28, 29, 30, 31, 32, 33, 34, 35, 36, 37, 38, 39, 40, 41, 42, 43,\n",
              "       44, 45, 46, 47, 48, 49, 50])"
            ]
          },
          "metadata": {},
          "execution_count": 5
        }
      ]
    },
    {
      "cell_type": "markdown",
      "source": [
        "####Criar uma matriz 3x3 com valores de 0 a 8"
      ],
      "metadata": {
        "id": "GxhelrA2Eebt"
      }
    },
    {
      "cell_type": "code",
      "source": [
        "np.arange(10,51,2)"
      ],
      "metadata": {
        "id": "oK-fbwsIEv58",
        "colab": {
          "base_uri": "https://localhost:8080/"
        },
        "outputId": "15fe83bf-0492-4bbe-c094-4b3bdb126025"
      },
      "execution_count": 7,
      "outputs": [
        {
          "output_type": "execute_result",
          "data": {
            "text/plain": [
              "array([10, 12, 14, 16, 18, 20, 22, 24, 26, 28, 30, 32, 34, 36, 38, 40, 42,\n",
              "       44, 46, 48, 50])"
            ]
          },
          "metadata": {},
          "execution_count": 7
        }
      ]
    },
    {
      "cell_type": "markdown",
      "source": [
        "####Criar uma matriz identidade 3x3"
      ],
      "metadata": {
        "id": "G319aoViE0u2"
      }
    },
    {
      "cell_type": "code",
      "source": [
        "np.arange(9).reshape(3,3)"
      ],
      "metadata": {
        "id": "uDqwFCjwE57D",
        "colab": {
          "base_uri": "https://localhost:8080/"
        },
        "outputId": "3ca433d0-6398-4d53-8ea6-39d8ed47b8b8"
      },
      "execution_count": 9,
      "outputs": [
        {
          "output_type": "execute_result",
          "data": {
            "text/plain": [
              "array([[0, 1, 2],\n",
              "       [3, 4, 5],\n",
              "       [6, 7, 8]])"
            ]
          },
          "metadata": {},
          "execution_count": 9
        }
      ]
    },
    {
      "cell_type": "markdown",
      "source": [
        "####Utilize o NumPy para gerar um número entre 0 e 1"
      ],
      "metadata": {
        "id": "2dJs9NOwE6kq"
      }
    },
    {
      "cell_type": "code",
      "source": [
        "np.eye(3)"
      ],
      "metadata": {
        "id": "PZAXZujRq1eY",
        "colab": {
          "base_uri": "https://localhost:8080/"
        },
        "outputId": "e5d91ed9-d6d5-46e3-824e-309bbd6d8118"
      },
      "execution_count": 10,
      "outputs": [
        {
          "output_type": "execute_result",
          "data": {
            "text/plain": [
              "array([[1., 0., 0.],\n",
              "       [0., 1., 0.],\n",
              "       [0., 0., 1.]])"
            ]
          },
          "metadata": {},
          "execution_count": 10
        }
      ]
    },
    {
      "cell_type": "markdown",
      "source": [
        "####Utilize o NumPy para gerar um array de 25 números aleatórios de uma amostra retirada de uma distribuição normal padrão"
      ],
      "metadata": {
        "id": "_VIYKOeAq2r5"
      }
    },
    {
      "cell_type": "code",
      "source": [
        "np.random.rand(1)"
      ],
      "metadata": {
        "id": "vOSj0wjtrJiA",
        "colab": {
          "base_uri": "https://localhost:8080/"
        },
        "outputId": "4b344a14-2357-4b7e-c1b7-ed5cb6d5d746"
      },
      "execution_count": 11,
      "outputs": [
        {
          "output_type": "execute_result",
          "data": {
            "text/plain": [
              "array([0.30779237])"
            ]
          },
          "metadata": {},
          "execution_count": 11
        }
      ]
    },
    {
      "cell_type": "markdown",
      "source": [
        "####Crie a seguinte matriz"
      ],
      "metadata": {
        "id": "PsHFn54G84wO"
      }
    },
    {
      "cell_type": "code",
      "source": [
        "#Digite seu código aqui"
      ],
      "metadata": {
        "id": "UxwhqQ2288jG"
      },
      "execution_count": 17,
      "outputs": []
    },
    {
      "cell_type": "code",
      "source": [
        "np.arange(1,101).reshape(10,10) / 100"
      ],
      "metadata": {
        "colab": {
          "base_uri": "https://localhost:8080/"
        },
        "id": "PgZpqb-f88wW",
        "outputId": "4eaab9b6-d283-4842-c668-752dd95f3d6c"
      },
      "execution_count": 16,
      "outputs": [
        {
          "output_type": "execute_result",
          "data": {
            "text/plain": [
              "array([[0.01, 0.02, 0.03, 0.04, 0.05, 0.06, 0.07, 0.08, 0.09, 0.1 ],\n",
              "       [0.11, 0.12, 0.13, 0.14, 0.15, 0.16, 0.17, 0.18, 0.19, 0.2 ],\n",
              "       [0.21, 0.22, 0.23, 0.24, 0.25, 0.26, 0.27, 0.28, 0.29, 0.3 ],\n",
              "       [0.31, 0.32, 0.33, 0.34, 0.35, 0.36, 0.37, 0.38, 0.39, 0.4 ],\n",
              "       [0.41, 0.42, 0.43, 0.44, 0.45, 0.46, 0.47, 0.48, 0.49, 0.5 ],\n",
              "       [0.51, 0.52, 0.53, 0.54, 0.55, 0.56, 0.57, 0.58, 0.59, 0.6 ],\n",
              "       [0.61, 0.62, 0.63, 0.64, 0.65, 0.66, 0.67, 0.68, 0.69, 0.7 ],\n",
              "       [0.71, 0.72, 0.73, 0.74, 0.75, 0.76, 0.77, 0.78, 0.79, 0.8 ],\n",
              "       [0.81, 0.82, 0.83, 0.84, 0.85, 0.86, 0.87, 0.88, 0.89, 0.9 ],\n",
              "       [0.91, 0.92, 0.93, 0.94, 0.95, 0.96, 0.97, 0.98, 0.99, 1.  ]])"
            ]
          },
          "metadata": {},
          "execution_count": 16
        }
      ]
    },
    {
      "cell_type": "markdown",
      "source": [
        "####Crie um array de 20 pontos linearmente espaçados entre 0 e 1"
      ],
      "metadata": {
        "id": "d3T6LA5atBCL"
      }
    },
    {
      "cell_type": "code",
      "source": [
        "#Digite seu código aqui"
      ],
      "metadata": {
        "id": "Kzx7OqABtUpI"
      },
      "execution_count": null,
      "outputs": []
    },
    {
      "cell_type": "code",
      "source": [
        "np.linspace(0,1,20)"
      ],
      "metadata": {
        "colab": {
          "base_uri": "https://localhost:8080/"
        },
        "id": "Y59olksLubsh",
        "outputId": "5beaaa1d-4ab6-4af4-8b5a-642d68b716b5"
      },
      "execution_count": 15,
      "outputs": [
        {
          "output_type": "execute_result",
          "data": {
            "text/plain": [
              "array([0.        , 0.05263158, 0.10526316, 0.15789474, 0.21052632,\n",
              "       0.26315789, 0.31578947, 0.36842105, 0.42105263, 0.47368421,\n",
              "       0.52631579, 0.57894737, 0.63157895, 0.68421053, 0.73684211,\n",
              "       0.78947368, 0.84210526, 0.89473684, 0.94736842, 1.        ])"
            ]
          },
          "metadata": {},
          "execution_count": 15
        }
      ]
    },
    {
      "cell_type": "markdown",
      "source": [
        "#NumPy Indexação e Seleção\n",
        "Agora serão dadas algumas matrizes e você deve replicar os resultados apresentados na sequência"
      ],
      "metadata": {
        "id": "TarkMFqNuhI5"
      }
    },
    {
      "cell_type": "code",
      "source": [
        "mat = np.arange(1,26).reshape(5,5)\n",
        "mat"
      ],
      "metadata": {
        "id": "uGHdw2nNueXB",
        "colab": {
          "base_uri": "https://localhost:8080/"
        },
        "outputId": "9b5ba8c1-9a8c-405a-dd7e-625cc78805e8"
      },
      "execution_count": 19,
      "outputs": [
        {
          "output_type": "execute_result",
          "data": {
            "text/plain": [
              "array([[ 1,  2,  3,  4,  5],\n",
              "       [ 6,  7,  8,  9, 10],\n",
              "       [11, 12, 13, 14, 15],\n",
              "       [16, 17, 18, 19, 20],\n",
              "       [21, 22, 23, 24, 25]])"
            ]
          },
          "metadata": {},
          "execution_count": 19
        }
      ]
    },
    {
      "cell_type": "code",
      "source": [
        "#Digite seu código aqui"
      ],
      "metadata": {
        "id": "8RZhPEQY37Q_"
      },
      "execution_count": null,
      "outputs": []
    },
    {
      "cell_type": "code",
      "source": [
        "mat[2:,1:]"
      ],
      "metadata": {
        "colab": {
          "base_uri": "https://localhost:8080/"
        },
        "id": "X9UXyRcs4Gho",
        "outputId": "1e41e7ea-455c-4d91-d7dd-8cd97e8546a1"
      },
      "execution_count": 20,
      "outputs": [
        {
          "output_type": "execute_result",
          "data": {
            "text/plain": [
              "array([[12, 13, 14, 15],\n",
              "       [17, 18, 19, 20],\n",
              "       [22, 23, 24, 25]])"
            ]
          },
          "metadata": {},
          "execution_count": 20
        }
      ]
    },
    {
      "cell_type": "code",
      "source": [
        "#Digite seu código aqui"
      ],
      "metadata": {
        "id": "CVF-Tuow4Jk-"
      },
      "execution_count": null,
      "outputs": []
    },
    {
      "cell_type": "code",
      "source": [
        "mat[3,4]"
      ],
      "metadata": {
        "colab": {
          "base_uri": "https://localhost:8080/"
        },
        "id": "CeAbp1BR4Mlf",
        "outputId": "eb5922c1-80bc-46f2-a8c4-c3184ef12005"
      },
      "execution_count": 21,
      "outputs": [
        {
          "output_type": "execute_result",
          "data": {
            "text/plain": [
              "20"
            ]
          },
          "metadata": {},
          "execution_count": 21
        }
      ]
    },
    {
      "cell_type": "code",
      "source": [
        "#Digite seu código aqui"
      ],
      "metadata": {
        "id": "GepwFFh24Oge"
      },
      "execution_count": null,
      "outputs": []
    },
    {
      "cell_type": "code",
      "source": [
        "mat[:3,1:2]"
      ],
      "metadata": {
        "colab": {
          "base_uri": "https://localhost:8080/"
        },
        "id": "sRHxdOAD4S4g",
        "outputId": "a98c6084-4805-47bd-f6f7-278e5b1282b1"
      },
      "execution_count": 22,
      "outputs": [
        {
          "output_type": "execute_result",
          "data": {
            "text/plain": [
              "array([[ 2],\n",
              "       [ 7],\n",
              "       [12]])"
            ]
          },
          "metadata": {},
          "execution_count": 22
        }
      ]
    },
    {
      "cell_type": "code",
      "source": [
        "#Digite seu código aqui"
      ],
      "metadata": {
        "id": "WYKj2gZS4U9_"
      },
      "execution_count": null,
      "outputs": []
    },
    {
      "cell_type": "code",
      "source": [
        "mat[4,:]"
      ],
      "metadata": {
        "colab": {
          "base_uri": "https://localhost:8080/"
        },
        "id": "3Sp1uW8b4fXg",
        "outputId": "a38a7636-714f-49a8-955f-acacc5ca4b4b"
      },
      "execution_count": 23,
      "outputs": [
        {
          "output_type": "execute_result",
          "data": {
            "text/plain": [
              "array([21, 22, 23, 24, 25])"
            ]
          },
          "metadata": {},
          "execution_count": 23
        }
      ]
    },
    {
      "cell_type": "code",
      "source": [
        "#Digite seu código aqui"
      ],
      "metadata": {
        "id": "DN4-0Pq-4hGQ"
      },
      "execution_count": null,
      "outputs": []
    },
    {
      "cell_type": "code",
      "source": [
        "mat[3:5,:]"
      ],
      "metadata": {
        "colab": {
          "base_uri": "https://localhost:8080/"
        },
        "id": "uXdmQc_74kYI",
        "outputId": "dc307e12-1907-42e5-b76c-572953049c7d"
      },
      "execution_count": 24,
      "outputs": [
        {
          "output_type": "execute_result",
          "data": {
            "text/plain": [
              "array([[16, 17, 18, 19, 20],\n",
              "       [21, 22, 23, 24, 25]])"
            ]
          },
          "metadata": {},
          "execution_count": 24
        }
      ]
    },
    {
      "cell_type": "markdown",
      "source": [
        "#Agora faça o seguinte\n",
        "####Obtenha a soma de todos os valores em mat"
      ],
      "metadata": {
        "id": "36HhapL94qjC"
      }
    },
    {
      "cell_type": "code",
      "source": [
        "mat.sum()"
      ],
      "metadata": {
        "id": "6z4oC9DO4z4g",
        "colab": {
          "base_uri": "https://localhost:8080/"
        },
        "outputId": "f479ca9d-9683-4357-ca6d-ad99fcc8c3ea"
      },
      "execution_count": 25,
      "outputs": [
        {
          "output_type": "execute_result",
          "data": {
            "text/plain": [
              "325"
            ]
          },
          "metadata": {},
          "execution_count": 25
        }
      ]
    },
    {
      "cell_type": "markdown",
      "source": [
        "####Obtenha o desvio padrão dos valores em mat"
      ],
      "metadata": {
        "id": "9aqotvTU43fB"
      }
    },
    {
      "cell_type": "code",
      "source": [
        "mat.std()"
      ],
      "metadata": {
        "id": "2MYleHLE4-aq",
        "colab": {
          "base_uri": "https://localhost:8080/"
        },
        "outputId": "b90e8478-f6c0-46a8-8bd9-830fa7cfc210"
      },
      "execution_count": 26,
      "outputs": [
        {
          "output_type": "execute_result",
          "data": {
            "text/plain": [
              "7.211102550927978"
            ]
          },
          "metadata": {},
          "execution_count": 26
        }
      ]
    },
    {
      "cell_type": "markdown",
      "source": [
        "####Obtenha a soma de todas as colunas em mat"
      ],
      "metadata": {
        "id": "aVjNDotL4_K7"
      }
    },
    {
      "cell_type": "code",
      "source": [
        "mat.sum(axis=0)"
      ],
      "metadata": {
        "id": "XMtBCssj5IIB",
        "colab": {
          "base_uri": "https://localhost:8080/"
        },
        "outputId": "105d97e1-cb30-4050-d760-62a3bb16e436"
      },
      "execution_count": 27,
      "outputs": [
        {
          "output_type": "execute_result",
          "data": {
            "text/plain": [
              "array([55, 60, 65, 70, 75])"
            ]
          },
          "metadata": {},
          "execution_count": 27
        }
      ]
    }
  ]
}