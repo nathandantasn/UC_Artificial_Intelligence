{
  "cells": [
    {
      "cell_type": "markdown",
      "metadata": {
        "id": "McqB5biXVA1S"
      },
      "source": [
        "#NumPy\n",
        "O NumPy é uma biblioteca de Álgebra Linear para Python. A razão de sua importância vem do fato que praticamente todas as bibliotecas do ecossistema PyData dependem do NumPy.\n",
        "Além disso, ele é incrivelmente rápido, pois tem conexões com bibliotecas do C."
      ]
    },
    {
      "cell_type": "markdown",
      "metadata": {
        "id": "r9zScGRtWwxA"
      },
      "source": [
        "#Instruções de instação\n",
        "É altamente recomendado que você instale o Python utilizando a distribuição Anaconda. Isso garante que todas as dependências internas fiquem sincronizadas. Se você tem o Anaconda, para instalar o NumPy abra o terminal ou prompt de comano=fo e digite:\n",
        "\n",
        "`conda install numpy`"
      ]
    },
    {
      "cell_type": "markdown",
      "metadata": {
        "id": "FjkK3aY6YNk1"
      },
      "source": [
        "#Utilizando o NumPy\n",
        "Após intalar você pode importá-lo como uma biblioteca"
      ]
    },
    {
      "cell_type": "code",
      "execution_count": 2,
      "metadata": {
        "id": "iSxQ68zAt7ql"
      },
      "outputs": [],
      "source": [
        "import numpy as np"
      ]
    },
    {
      "cell_type": "markdown",
      "metadata": {
        "id": "1HpoPDjPY-0s"
      },
      "source": [
        "#NumPy Arrays\n",
        "Numpy arrays aparecem essencialmente em duas formas: vetores e matrizes. Vetores são estritamemente arrays 1-d e matrizes são 2-d (porém, uma matriz pode, eventualmente, conter apenas uma coluna ou uma linha)."
      ]
    },
    {
      "cell_type": "markdown",
      "metadata": {
        "id": "ciWraRNeYMh2"
      },
      "source": [
        "#Criando NumPy Arrays"
      ]
    },
    {
      "cell_type": "markdown",
      "metadata": {
        "id": "xm5cttpCtZmt"
      },
      "source": [
        "####De uma lista\n",
        "Pode-se criar uma array convertendo diretamente uma lista ou lista de listas"
      ]
    },
    {
      "cell_type": "code",
      "execution_count": null,
      "metadata": {
        "colab": {
          "base_uri": "https://localhost:8080/"
        },
        "id": "68bfMPsJaG9q",
        "outputId": "5d16fff8-818f-45b8-c823-93dc36f00e58"
      },
      "outputs": [
        {
          "data": {
            "text/plain": [
              "[1, 2, 3]"
            ]
          },
          "execution_count": 5,
          "metadata": {},
          "output_type": "execute_result"
        }
      ],
      "source": [
        "my_list = [1,2,3]\n",
        "my_list"
      ]
    },
    {
      "cell_type": "code",
      "execution_count": null,
      "metadata": {
        "colab": {
          "base_uri": "https://localhost:8080/"
        },
        "id": "9O8TaEKzty_e",
        "outputId": "813d73a2-7fea-47c2-f869-6ba03186999f"
      },
      "outputs": [
        {
          "data": {
            "text/plain": [
              "array([1, 2, 3])"
            ]
          },
          "execution_count": 6,
          "metadata": {},
          "output_type": "execute_result"
        }
      ],
      "source": [
        "np.array(my_list)"
      ]
    },
    {
      "cell_type": "code",
      "execution_count": null,
      "metadata": {
        "colab": {
          "base_uri": "https://localhost:8080/"
        },
        "id": "2kiePyHdt1w9",
        "outputId": "f31bbccc-3ff2-4856-b967-ef41a39a0a70"
      },
      "outputs": [
        {
          "data": {
            "text/plain": [
              "[[1, 2, 3], [4, 5, 6], [7, 8, 9]]"
            ]
          },
          "execution_count": 7,
          "metadata": {},
          "output_type": "execute_result"
        }
      ],
      "source": [
        "my_matrix = [[1,2,3],[4,5,6],[7,8,9]]\n",
        "my_matrix"
      ]
    },
    {
      "cell_type": "code",
      "execution_count": null,
      "metadata": {
        "colab": {
          "base_uri": "https://localhost:8080/"
        },
        "id": "co1GrdQ0uSDl",
        "outputId": "bb52f8f7-287b-4a6c-f3fe-d9b98e3933cf"
      },
      "outputs": [
        {
          "data": {
            "text/plain": [
              "array([[1, 2, 3],\n",
              "       [4, 5, 6],\n",
              "       [7, 8, 9]])"
            ]
          },
          "execution_count": 8,
          "metadata": {},
          "output_type": "execute_result"
        }
      ],
      "source": [
        "np.array(my_matrix)"
      ]
    },
    {
      "cell_type": "markdown",
      "metadata": {
        "id": "yMszeoDNuX3V"
      },
      "source": [
        "#Métodos de Construção Interna\n",
        "Existem vários métodos internos para gerar arrays"
      ]
    },
    {
      "cell_type": "markdown",
      "metadata": {
        "id": "qT28jAlnvsbJ"
      },
      "source": [
        "####arange\n",
        "Retorna valores separados igualmente em um dado intervalo"
      ]
    },
    {
      "cell_type": "code",
      "execution_count": null,
      "metadata": {
        "colab": {
          "base_uri": "https://localhost:8080/"
        },
        "id": "dcANExSpuVVM",
        "outputId": "c607fef4-e4dd-4746-ad0a-dbf10ab96a02"
      },
      "outputs": [
        {
          "data": {
            "text/plain": [
              "array([0, 1, 2, 3, 4, 5, 6, 7, 8, 9])"
            ]
          },
          "execution_count": 9,
          "metadata": {},
          "output_type": "execute_result"
        }
      ],
      "source": [
        "np.arange(0,10)"
      ]
    },
    {
      "cell_type": "code",
      "execution_count": null,
      "metadata": {
        "colab": {
          "base_uri": "https://localhost:8080/"
        },
        "id": "wpUI-mG0v8ta",
        "outputId": "029fda8c-a42d-4425-b64a-d491c44b269c"
      },
      "outputs": [
        {
          "data": {
            "text/plain": [
              "array([ 0,  2,  4,  6,  8, 10])"
            ]
          },
          "execution_count": 11,
          "metadata": {},
          "output_type": "execute_result"
        }
      ],
      "source": [
        "np.arange(0,11,2)"
      ]
    },
    {
      "cell_type": "markdown",
      "metadata": {
        "id": "eer5HBPXwFmQ"
      },
      "source": [
        "####zeros e ones\n",
        "Gera arrays de zeros e uns"
      ]
    },
    {
      "cell_type": "code",
      "execution_count": null,
      "metadata": {
        "colab": {
          "base_uri": "https://localhost:8080/"
        },
        "id": "Z7RwBB3UwAmp",
        "outputId": "95efb4d0-32ef-421d-ddd8-65bb8248dc8e"
      },
      "outputs": [
        {
          "data": {
            "text/plain": [
              "array([0., 0., 0.])"
            ]
          },
          "execution_count": 12,
          "metadata": {},
          "output_type": "execute_result"
        }
      ],
      "source": [
        "np.zeros(3)"
      ]
    },
    {
      "cell_type": "code",
      "execution_count": null,
      "metadata": {
        "colab": {
          "base_uri": "https://localhost:8080/"
        },
        "id": "hc6EGInSwSwR",
        "outputId": "e2916a59-1648-4974-d0ec-ca0d607e80e6"
      },
      "outputs": [
        {
          "data": {
            "text/plain": [
              "array([[0., 0., 0., 0., 0.],\n",
              "       [0., 0., 0., 0., 0.],\n",
              "       [0., 0., 0., 0., 0.],\n",
              "       [0., 0., 0., 0., 0.],\n",
              "       [0., 0., 0., 0., 0.]])"
            ]
          },
          "execution_count": 13,
          "metadata": {},
          "output_type": "execute_result"
        }
      ],
      "source": [
        "np.zeros((5,5))"
      ]
    },
    {
      "cell_type": "code",
      "execution_count": null,
      "metadata": {
        "colab": {
          "base_uri": "https://localhost:8080/"
        },
        "id": "Qw3g90SqwVSx",
        "outputId": "0e6aa917-1d1a-4d38-a5ab-efdb40cc0972"
      },
      "outputs": [
        {
          "data": {
            "text/plain": [
              "array([1., 1., 1.])"
            ]
          },
          "execution_count": 14,
          "metadata": {},
          "output_type": "execute_result"
        }
      ],
      "source": [
        "np.ones(3)"
      ]
    },
    {
      "cell_type": "code",
      "execution_count": null,
      "metadata": {
        "colab": {
          "base_uri": "https://localhost:8080/"
        },
        "id": "HmIk2WI-wYnp",
        "outputId": "fc50c280-611b-4aaa-c980-6fa90b1d46e3"
      },
      "outputs": [
        {
          "data": {
            "text/plain": [
              "array([[1., 1., 1.],\n",
              "       [1., 1., 1.],\n",
              "       [1., 1., 1.]])"
            ]
          },
          "execution_count": 15,
          "metadata": {},
          "output_type": "execute_result"
        }
      ],
      "source": [
        "np.ones((3,3))"
      ]
    },
    {
      "cell_type": "markdown",
      "metadata": {
        "id": "D2L56gAWwd5q"
      },
      "source": [
        "####linspace\n",
        "Retorna números uniformemente espaçados em um intervalo específico"
      ]
    },
    {
      "cell_type": "code",
      "execution_count": null,
      "metadata": {
        "colab": {
          "base_uri": "https://localhost:8080/"
        },
        "id": "bkdCsu_9wbJa",
        "outputId": "4aa5c4ca-4c12-4cd3-ea83-da933d5f24d6"
      },
      "outputs": [
        {
          "data": {
            "text/plain": [
              "array([ 0.,  5., 10.])"
            ]
          },
          "execution_count": 16,
          "metadata": {},
          "output_type": "execute_result"
        }
      ],
      "source": [
        "np.linspace(0,10,3)"
      ]
    },
    {
      "cell_type": "code",
      "execution_count": null,
      "metadata": {
        "colab": {
          "base_uri": "https://localhost:8080/"
        },
        "id": "vCfij4Zqww3I",
        "outputId": "9537fad3-f1bf-4d54-a6c8-c8a695ea2dfb"
      },
      "outputs": [
        {
          "data": {
            "text/plain": [
              "array([ 0.        ,  0.20408163,  0.40816327,  0.6122449 ,  0.81632653,\n",
              "        1.02040816,  1.2244898 ,  1.42857143,  1.63265306,  1.83673469,\n",
              "        2.04081633,  2.24489796,  2.44897959,  2.65306122,  2.85714286,\n",
              "        3.06122449,  3.26530612,  3.46938776,  3.67346939,  3.87755102,\n",
              "        4.08163265,  4.28571429,  4.48979592,  4.69387755,  4.89795918,\n",
              "        5.10204082,  5.30612245,  5.51020408,  5.71428571,  5.91836735,\n",
              "        6.12244898,  6.32653061,  6.53061224,  6.73469388,  6.93877551,\n",
              "        7.14285714,  7.34693878,  7.55102041,  7.75510204,  7.95918367,\n",
              "        8.16326531,  8.36734694,  8.57142857,  8.7755102 ,  8.97959184,\n",
              "        9.18367347,  9.3877551 ,  9.59183673,  9.79591837, 10.        ])"
            ]
          },
          "execution_count": 17,
          "metadata": {},
          "output_type": "execute_result"
        }
      ],
      "source": [
        "np.linspace(0,10,50)"
      ]
    },
    {
      "cell_type": "markdown",
      "metadata": {
        "id": "YRXLrP3xxQVv"
      },
      "source": [
        "####eye\n",
        "Cria uma matrix identidade"
      ]
    },
    {
      "cell_type": "code",
      "execution_count": null,
      "metadata": {
        "colab": {
          "base_uri": "https://localhost:8080/"
        },
        "id": "aHmUjELlxATw",
        "outputId": "fb634f73-6fa5-43e8-c9c4-1e399c8da784"
      },
      "outputs": [
        {
          "data": {
            "text/plain": [
              "array([[1., 0., 0., 0.],\n",
              "       [0., 1., 0., 0.],\n",
              "       [0., 0., 1., 0.],\n",
              "       [0., 0., 0., 1.]])"
            ]
          },
          "execution_count": 19,
          "metadata": {},
          "output_type": "execute_result"
        }
      ],
      "source": [
        "np.eye(4)"
      ]
    },
    {
      "cell_type": "markdown",
      "metadata": {
        "id": "SlqGUI8GxZZw"
      },
      "source": [
        "#Random\n",
        "O numpy possui várias formas de criar arrays de números aleatórios"
      ]
    },
    {
      "cell_type": "markdown",
      "metadata": {
        "id": "YwF9XiRfxq9f"
      },
      "source": [
        "#### rand\n",
        "Cria uma array na forma dada e popula ela com amostras aleatórias de uma distribuição uniforme entre [0,1)"
      ]
    },
    {
      "cell_type": "code",
      "execution_count": null,
      "metadata": {
        "colab": {
          "base_uri": "https://localhost:8080/"
        },
        "id": "g029VR28xBqw",
        "outputId": "a63984ba-b3c4-4628-fe19-4cbb30c631c9"
      },
      "outputs": [
        {
          "data": {
            "text/plain": [
              "array([0.48827293, 0.9481016 ])"
            ]
          },
          "execution_count": 20,
          "metadata": {},
          "output_type": "execute_result"
        }
      ],
      "source": [
        "np.random.rand(2)"
      ]
    },
    {
      "cell_type": "code",
      "execution_count": null,
      "metadata": {
        "colab": {
          "base_uri": "https://localhost:8080/"
        },
        "id": "8ZwqtTMSyYu-",
        "outputId": "0603c916-f822-47fd-aff6-269e1a4b6b3d"
      },
      "outputs": [
        {
          "data": {
            "text/plain": [
              "array([[0.77511842, 0.0254753 , 0.55039402, 0.19047372, 0.95858454],\n",
              "       [0.78656975, 0.15244434, 0.36242808, 0.95838644, 0.15114475],\n",
              "       [0.34632215, 0.95145085, 0.69083056, 0.8635782 , 0.92745155],\n",
              "       [0.477497  , 0.79350051, 0.06217877, 0.56256226, 0.84862922],\n",
              "       [0.23953607, 0.55110982, 0.06223048, 0.82433384, 0.77291991]])"
            ]
          },
          "execution_count": 21,
          "metadata": {},
          "output_type": "execute_result"
        }
      ],
      "source": [
        "np.random.rand(5,5)"
      ]
    },
    {
      "cell_type": "markdown",
      "metadata": {
        "id": "R8Svy78oywgG"
      },
      "source": [
        "####randn\n",
        "Retorna uma amostra (ou amostras) de uma \"distribuição normal padrão\". Diferente do rand, que é uniforme"
      ]
    },
    {
      "cell_type": "code",
      "execution_count": null,
      "metadata": {
        "colab": {
          "base_uri": "https://localhost:8080/"
        },
        "id": "MHWKFmIQybuF",
        "outputId": "2f89ccd4-5926-41ec-ed57-3469989d00f8"
      },
      "outputs": [
        {
          "data": {
            "text/plain": [
              "array([-0.74603454,  0.69417488])"
            ]
          },
          "execution_count": 23,
          "metadata": {},
          "output_type": "execute_result"
        }
      ],
      "source": [
        "np.random.randn(2)"
      ]
    },
    {
      "cell_type": "code",
      "execution_count": null,
      "metadata": {
        "colab": {
          "base_uri": "https://localhost:8080/"
        },
        "id": "PMml-_CzzCgk",
        "outputId": "516bca2e-9df3-407a-ca68-d8f38eb47c9c"
      },
      "outputs": [
        {
          "data": {
            "text/plain": [
              "array([[-0.71520916,  0.73357826,  1.29586275, -0.49804876,  1.2775569 ],\n",
              "       [-1.67691737, -2.06781291, -0.58598824, -0.9689648 , -0.34604956],\n",
              "       [-1.87190459, -1.68632572,  0.14929125,  0.6497332 , -2.27137001],\n",
              "       [ 0.59439564, -0.80045377,  1.43892273,  2.36832095,  0.71244968],\n",
              "       [-0.0837616 , -0.80785591, -0.64380785,  1.43067291,  0.93238905]])"
            ]
          },
          "execution_count": 24,
          "metadata": {},
          "output_type": "execute_result"
        }
      ],
      "source": [
        "np.random.randn(5,5)"
      ]
    },
    {
      "cell_type": "markdown",
      "metadata": {
        "id": "PR3LMCrkzLB2"
      },
      "source": [
        "####randint\n",
        "Retorna um inteiro aleatório entre low (inclusive) e high (exclusivo)"
      ]
    },
    {
      "cell_type": "code",
      "execution_count": 5,
      "metadata": {
        "colab": {
          "base_uri": "https://localhost:8080/"
        },
        "id": "uMszL1-qzIQ8",
        "outputId": "4b22fea9-0b7b-4288-db39-b5e07cff9b40"
      },
      "outputs": [
        {
          "data": {
            "text/plain": [
              "56"
            ]
          },
          "execution_count": 5,
          "metadata": {},
          "output_type": "execute_result"
        }
      ],
      "source": [
        "np.random.randint(1,100)"
      ]
    },
    {
      "cell_type": "code",
      "execution_count": 8,
      "metadata": {
        "colab": {
          "base_uri": "https://localhost:8080/"
        },
        "id": "Lx1B2z_Bznz7",
        "outputId": "46d60667-1c08-4ba4-f813-8a57441e5816"
      },
      "outputs": [
        {
          "data": {
            "text/plain": [
              "array([86, 27,  8, 48, 79, 33, 25, 95, 30, 82, 59, 74, 80, 57, 65, 39, 19,\n",
              "       55, 29, 14, 92, 61, 95, 87, 85, 50, 14, 92, 58, 28, 82, 66, 30, 47,\n",
              "       14, 81, 70, 23, 49, 33, 38,  2, 72, 93, 32, 71, 62, 89, 19, 94, 15,\n",
              "       10, 51, 94, 84, 22, 29, 50, 46, 14, 55, 17, 40, 37, 82, 14, 57, 94,\n",
              "       12,  6, 16, 29, 67, 80, 66, 38, 73, 94, 59,  2, 39, 24, 80, 73, 41,\n",
              "       53, 68, 73, 49, 79, 71, 48, 82, 12, 82, 26, 60, 78,  2, 30, 34, 21,\n",
              "       86, 38, 49, 70, 60, 13, 58, 94, 13, 43, 37, 96, 70, 25, 63, 16,  1,\n",
              "       98, 78,  1, 69, 79, 87, 94, 21, 79,  1, 57, 40, 20, 44, 22, 15, 98,\n",
              "       14, 40, 35, 75, 79, 30, 40, 71, 23, 42, 95, 84, 55, 75, 83, 27, 30,\n",
              "       57, 49, 62, 90, 85, 74, 42, 45, 69, 94, 54, 36, 48, 49, 20, 59, 75,\n",
              "       91, 12, 44, 95, 41, 88, 99, 86,  2, 46,  1, 91, 38, 33, 91, 98, 22,\n",
              "       92, 15, 90, 51, 17,  7, 41, 30, 42, 55, 54, 85, 18])"
            ]
          },
          "execution_count": 8,
          "metadata": {},
          "output_type": "execute_result"
        }
      ],
      "source": [
        "np.random.randint(1,100,200)"
      ]
    },
    {
      "cell_type": "markdown",
      "metadata": {
        "id": "CNFZ_0oOz3eT"
      },
      "source": [
        "#Atributos e Métodos das Arrays\n",
        "Vamos discutir alguns atributos e métodos úteis de uma array "
      ]
    },
    {
      "cell_type": "code",
      "execution_count": 9,
      "metadata": {
        "id": "lMxQHh9GzrBb"
      },
      "outputs": [],
      "source": [
        "arr = np.arange(25)"
      ]
    },
    {
      "cell_type": "code",
      "execution_count": 10,
      "metadata": {
        "id": "F1cVHoHh0I97"
      },
      "outputs": [],
      "source": [
        "ranarr = np.random.randint(0,50,10)"
      ]
    },
    {
      "cell_type": "code",
      "execution_count": null,
      "metadata": {
        "colab": {
          "base_uri": "https://localhost:8080/"
        },
        "id": "qr_hvbhb0OSa",
        "outputId": "f2bc8b93-9100-4c1e-e0f7-c2bc4b24f933"
      },
      "outputs": [
        {
          "data": {
            "text/plain": [
              "array([ 0,  1,  2,  3,  4,  5,  6,  7,  8,  9, 10, 11, 12, 13, 14, 15, 16,\n",
              "       17, 18, 19, 20, 21, 22, 23, 24])"
            ]
          },
          "execution_count": 29,
          "metadata": {},
          "output_type": "execute_result"
        }
      ],
      "source": [
        "arr"
      ]
    },
    {
      "cell_type": "code",
      "execution_count": 11,
      "metadata": {
        "colab": {
          "base_uri": "https://localhost:8080/"
        },
        "id": "HBtXzU7-0QOS",
        "outputId": "0074b454-56b3-464b-ce48-2cd7595fa030"
      },
      "outputs": [
        {
          "data": {
            "text/plain": [
              "array([41, 22, 44,  0,  8, 15, 12, 39, 41, 35])"
            ]
          },
          "execution_count": 11,
          "metadata": {},
          "output_type": "execute_result"
        }
      ],
      "source": [
        "ranarr"
      ]
    },
    {
      "cell_type": "markdown",
      "metadata": {
        "id": "yaDsuQ5-0Xw7"
      },
      "source": [
        "####Reshape\n",
        "Retorna uma array contendo a mesma informação com uma nova forma"
      ]
    },
    {
      "cell_type": "code",
      "execution_count": null,
      "metadata": {
        "colab": {
          "base_uri": "https://localhost:8080/"
        },
        "id": "qU_E3GbJ0T5y",
        "outputId": "ab1fd7a2-d1cd-4066-a7cd-436b4ab99a3a"
      },
      "outputs": [
        {
          "data": {
            "text/plain": [
              "array([[ 0,  1,  2,  3,  4],\n",
              "       [ 5,  6,  7,  8,  9],\n",
              "       [10, 11, 12, 13, 14],\n",
              "       [15, 16, 17, 18, 19],\n",
              "       [20, 21, 22, 23, 24]])"
            ]
          },
          "execution_count": 31,
          "metadata": {},
          "output_type": "execute_result"
        }
      ],
      "source": [
        "arr.reshape(5,5)"
      ]
    },
    {
      "cell_type": "markdown",
      "metadata": {
        "id": "9ttls1RX0nCq"
      },
      "source": [
        "####max, min, argmax, argmin\n",
        "Estes são métodos úteis para encontrar valores máximos ou mínimos. Ou para encontrar seu índice de localização utilizando argmin ou argmax"
      ]
    },
    {
      "cell_type": "code",
      "execution_count": 12,
      "metadata": {
        "colab": {
          "base_uri": "https://localhost:8080/"
        },
        "id": "LSbTFHp80h4F",
        "outputId": "300c027f-6d28-4a5f-8c08-de0a2c2100bc"
      },
      "outputs": [
        {
          "data": {
            "text/plain": [
              "array([41, 22, 44,  0,  8, 15, 12, 39, 41, 35])"
            ]
          },
          "execution_count": 12,
          "metadata": {},
          "output_type": "execute_result"
        }
      ],
      "source": [
        "ranarr"
      ]
    },
    {
      "cell_type": "code",
      "execution_count": 13,
      "metadata": {
        "colab": {
          "base_uri": "https://localhost:8080/"
        },
        "id": "SrYflkfG1Bwh",
        "outputId": "672b9c31-9f3a-40e8-f4f4-c834bf7ae9e5"
      },
      "outputs": [
        {
          "data": {
            "text/plain": [
              "44"
            ]
          },
          "execution_count": 13,
          "metadata": {},
          "output_type": "execute_result"
        }
      ],
      "source": [
        "ranarr.max()"
      ]
    },
    {
      "cell_type": "code",
      "execution_count": 14,
      "metadata": {
        "colab": {
          "base_uri": "https://localhost:8080/"
        },
        "id": "xbUvDxEs1ETY",
        "outputId": "4c5ecc63-126d-4ecd-f254-e2708c57810e"
      },
      "outputs": [
        {
          "data": {
            "text/plain": [
              "2"
            ]
          },
          "execution_count": 14,
          "metadata": {},
          "output_type": "execute_result"
        }
      ],
      "source": [
        "ranarr.argmax()"
      ]
    },
    {
      "cell_type": "code",
      "execution_count": 15,
      "metadata": {
        "colab": {
          "base_uri": "https://localhost:8080/"
        },
        "id": "a82lnvxI1IDx",
        "outputId": "b61647e4-4797-43e6-fc12-7e8c08b31305"
      },
      "outputs": [
        {
          "data": {
            "text/plain": [
              "0"
            ]
          },
          "execution_count": 15,
          "metadata": {},
          "output_type": "execute_result"
        }
      ],
      "source": [
        "ranarr.min()"
      ]
    },
    {
      "cell_type": "code",
      "execution_count": 16,
      "metadata": {
        "colab": {
          "base_uri": "https://localhost:8080/"
        },
        "id": "l2DDWO_H1LgA",
        "outputId": "21fefbb3-ed31-4e78-fe9e-5f813df43ecf"
      },
      "outputs": [
        {
          "data": {
            "text/plain": [
              "3"
            ]
          },
          "execution_count": 16,
          "metadata": {},
          "output_type": "execute_result"
        }
      ],
      "source": [
        "ranarr.argmin()"
      ]
    },
    {
      "cell_type": "markdown",
      "metadata": {
        "id": "aLnEN61S1O5I"
      },
      "source": []
    },
    {
      "cell_type": "markdown",
      "metadata": {
        "id": "JB8-FBVj1PF4"
      },
      "source": [
        "####Shape\n",
        "Shape é um atributo que as arrays possuem (não é um método)"
      ]
    },
    {
      "cell_type": "code",
      "execution_count": null,
      "metadata": {
        "colab": {
          "base_uri": "https://localhost:8080/"
        },
        "id": "mPrv8PK61NKo",
        "outputId": "8ce01e00-d2b5-429f-f24c-d7e721deb7c4"
      },
      "outputs": [
        {
          "data": {
            "text/plain": [
              "(25,)"
            ]
          },
          "execution_count": 37,
          "metadata": {},
          "output_type": "execute_result"
        }
      ],
      "source": [
        "#vetor\n",
        "arr.shape"
      ]
    },
    {
      "cell_type": "code",
      "execution_count": null,
      "metadata": {
        "colab": {
          "base_uri": "https://localhost:8080/"
        },
        "id": "IbBX7GUb1aIA",
        "outputId": "15a94b5b-0a4c-49a5-c9bc-799b59f991b2"
      },
      "outputs": [
        {
          "data": {
            "text/plain": [
              "array([[ 0,  1,  2,  3,  4,  5,  6,  7,  8,  9, 10, 11, 12, 13, 14, 15,\n",
              "        16, 17, 18, 19, 20, 21, 22, 23, 24]])"
            ]
          },
          "execution_count": 38,
          "metadata": {},
          "output_type": "execute_result"
        }
      ],
      "source": [
        "#perceba os 2 pares de colchetes\n",
        "arr.reshape(1,25)"
      ]
    },
    {
      "cell_type": "code",
      "execution_count": null,
      "metadata": {
        "colab": {
          "base_uri": "https://localhost:8080/"
        },
        "id": "m2cylSZ91rhg",
        "outputId": "eb20f87c-2d9e-4b50-a1fc-c77b52982c44"
      },
      "outputs": [
        {
          "data": {
            "text/plain": [
              "(1, 25)"
            ]
          },
          "execution_count": 39,
          "metadata": {},
          "output_type": "execute_result"
        }
      ],
      "source": [
        "arr.reshape(1,25).shape"
      ]
    },
    {
      "cell_type": "code",
      "execution_count": null,
      "metadata": {
        "colab": {
          "base_uri": "https://localhost:8080/"
        },
        "id": "kzje9aHN12to",
        "outputId": "909b2020-672a-4f75-c610-6795fc714d15"
      },
      "outputs": [
        {
          "data": {
            "text/plain": [
              "array([[ 0],\n",
              "       [ 1],\n",
              "       [ 2],\n",
              "       [ 3],\n",
              "       [ 4],\n",
              "       [ 5],\n",
              "       [ 6],\n",
              "       [ 7],\n",
              "       [ 8],\n",
              "       [ 9],\n",
              "       [10],\n",
              "       [11],\n",
              "       [12],\n",
              "       [13],\n",
              "       [14],\n",
              "       [15],\n",
              "       [16],\n",
              "       [17],\n",
              "       [18],\n",
              "       [19],\n",
              "       [20],\n",
              "       [21],\n",
              "       [22],\n",
              "       [23],\n",
              "       [24]])"
            ]
          },
          "execution_count": 40,
          "metadata": {},
          "output_type": "execute_result"
        }
      ],
      "source": [
        "arr.reshape(25,1)"
      ]
    },
    {
      "cell_type": "code",
      "execution_count": null,
      "metadata": {
        "colab": {
          "base_uri": "https://localhost:8080/"
        },
        "id": "VMDmWtYD1_gn",
        "outputId": "1eb186d2-8261-4779-88ed-b97d59e4ad02"
      },
      "outputs": [
        {
          "data": {
            "text/plain": [
              "(25, 1)"
            ]
          },
          "execution_count": 41,
          "metadata": {},
          "output_type": "execute_result"
        }
      ],
      "source": [
        "arr.reshape(25,1).shape"
      ]
    },
    {
      "cell_type": "markdown",
      "metadata": {
        "id": "-r0rg0Up2GTo"
      },
      "source": [
        "####dtype\n",
        "Também é possível obter o tipo de dado dos objetos de uma array"
      ]
    },
    {
      "cell_type": "code",
      "execution_count": null,
      "metadata": {
        "colab": {
          "base_uri": "https://localhost:8080/"
        },
        "id": "DOV3wUxq2Dgv",
        "outputId": "69e18d24-6a24-43fd-dac6-6216a097012d"
      },
      "outputs": [
        {
          "data": {
            "text/plain": [
              "dtype('int64')"
            ]
          },
          "execution_count": 42,
          "metadata": {},
          "output_type": "execute_result"
        }
      ],
      "source": [
        "arr.dtype"
      ]
    },
    {
      "cell_type": "code",
      "execution_count": null,
      "metadata": {
        "id": "hwU5O1h32VHe"
      },
      "outputs": [],
      "source": []
    }
  ],
  "metadata": {
    "colab": {
      "collapsed_sections": [],
      "provenance": []
    },
    "kernelspec": {
      "display_name": "Python 3.10.4 64-bit",
      "language": "python",
      "name": "python3"
    },
    "language_info": {
      "name": "python",
      "version": "3.10.4"
    },
    "vscode": {
      "interpreter": {
        "hash": "85c04cea8495852ae269256a76fb6fcb3cb8a3b67e0a47310f6202e687b8264b"
      }
    }
  },
  "nbformat": 4,
  "nbformat_minor": 0
}
