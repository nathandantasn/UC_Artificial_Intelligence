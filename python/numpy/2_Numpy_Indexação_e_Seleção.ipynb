{
  "nbformat": 4,
  "nbformat_minor": 0,
  "metadata": {
    "colab": {
      "provenance": [],
      "collapsed_sections": []
    },
    "kernelspec": {
      "name": "python3",
      "display_name": "Python 3"
    },
    "language_info": {
      "name": "python"
    }
  },
  "cells": [
    {
      "cell_type": "markdown",
      "source": [
        "#Numpy Indexação e Seleção\n",
        "Iremos discutir agora como selecionar elementos ou grupo de elementos de uma array"
      ],
      "metadata": {
        "id": "TqveKvXs4FdS"
      }
    },
    {
      "cell_type": "code",
      "source": [
        "import numpy as np"
      ],
      "metadata": {
        "id": "rHuA_WV54ZR8"
      },
      "execution_count": null,
      "outputs": []
    },
    {
      "cell_type": "code",
      "source": [
        "#criando uma array de \"amostra\"\n",
        "arr = np.arange(0,11)"
      ],
      "metadata": {
        "id": "RJdJdjIR4bIU"
      },
      "execution_count": null,
      "outputs": []
    },
    {
      "cell_type": "code",
      "source": [
        "#Mostrando\n",
        "arr"
      ],
      "metadata": {
        "colab": {
          "base_uri": "https://localhost:8080/"
        },
        "id": "BWnmXllI4mfT",
        "outputId": "1983c3ac-7d51-40ba-92fe-c69dda8a584b"
      },
      "execution_count": null,
      "outputs": [
        {
          "output_type": "execute_result",
          "data": {
            "text/plain": [
              "array([ 0,  1,  2,  3,  4,  5,  6,  7,  8,  9, 10])"
            ]
          },
          "metadata": {},
          "execution_count": 4
        }
      ]
    },
    {
      "cell_type": "markdown",
      "source": [
        "####Indexação e seleção com colchete\n",
        "A maneira mais simples para obter algum elemento de uma array é similar ao que se faz com as listas"
      ],
      "metadata": {
        "id": "7nW9h0qv4rPp"
      }
    },
    {
      "cell_type": "code",
      "source": [
        "#Obtendo um valor de um determinado índice\n",
        "arr[8]"
      ],
      "metadata": {
        "colab": {
          "base_uri": "https://localhost:8080/"
        },
        "id": "buomnO_s4nsy",
        "outputId": "37b1334b-8563-448d-c292-e5039efac37c"
      },
      "execution_count": null,
      "outputs": [
        {
          "output_type": "execute_result",
          "data": {
            "text/plain": [
              "8"
            ]
          },
          "metadata": {},
          "execution_count": 5
        }
      ]
    },
    {
      "cell_type": "code",
      "source": [
        "#Obtendo valores em um intervalo\n",
        "arr[1:5]"
      ],
      "metadata": {
        "colab": {
          "base_uri": "https://localhost:8080/"
        },
        "id": "5Ubecu2p5Lzp",
        "outputId": "5065bcde-278c-46c7-c668-78e63e4b091e"
      },
      "execution_count": null,
      "outputs": [
        {
          "output_type": "execute_result",
          "data": {
            "text/plain": [
              "array([1, 2, 3, 4])"
            ]
          },
          "metadata": {},
          "execution_count": 6
        }
      ]
    },
    {
      "cell_type": "code",
      "source": [
        "arr[0:5]"
      ],
      "metadata": {
        "colab": {
          "base_uri": "https://localhost:8080/"
        },
        "id": "uMCXOPCZ5YER",
        "outputId": "79722893-ace8-40be-aa28-145f9a15b297"
      },
      "execution_count": null,
      "outputs": [
        {
          "output_type": "execute_result",
          "data": {
            "text/plain": [
              "array([0, 1, 2, 3, 4])"
            ]
          },
          "metadata": {},
          "execution_count": 7
        }
      ]
    },
    {
      "cell_type": "markdown",
      "source": [
        "####Broadcasting\n",
        "As arrays do numpy diferem de uma lista normal do python por sua habilidade de broadcast"
      ],
      "metadata": {
        "id": "kPY2v2lz5mcC"
      }
    },
    {
      "cell_type": "code",
      "source": [
        "#Definindo um valor dentro de um intervalo de índices (Broadcasting)\n",
        "arr[0:5] = 100\n",
        "\n",
        "#Mostrando\n",
        "arr"
      ],
      "metadata": {
        "colab": {
          "base_uri": "https://localhost:8080/"
        },
        "id": "G67PlbvC5dOI",
        "outputId": "fe4c1dbf-d7bc-403f-dbab-561256544147"
      },
      "execution_count": null,
      "outputs": [
        {
          "output_type": "execute_result",
          "data": {
            "text/plain": [
              "array([100, 100, 100, 100, 100,   5,   6,   7,   8,   9,  10])"
            ]
          },
          "metadata": {},
          "execution_count": 9
        }
      ]
    },
    {
      "cell_type": "code",
      "source": [
        "#Resetando a array\n",
        "arr = np.arange(0,11)\n",
        "\n",
        "#Mostrando\n",
        "arr"
      ],
      "metadata": {
        "colab": {
          "base_uri": "https://localhost:8080/"
        },
        "id": "9MRa8d596BG_",
        "outputId": "b1fb4a6f-9fd8-43bf-bb49-8b981822743f"
      },
      "execution_count": null,
      "outputs": [
        {
          "output_type": "execute_result",
          "data": {
            "text/plain": [
              "array([ 0,  1,  2,  3,  4,  5,  6,  7,  8,  9, 10])"
            ]
          },
          "metadata": {},
          "execution_count": 11
        }
      ]
    },
    {
      "cell_type": "code",
      "source": [
        "#Fazendo um corte (slice) na array \n",
        "slice_of_arr = arr[0:6]\n",
        "\n",
        "#Mostrando o corte\n",
        "slice_of_arr"
      ],
      "metadata": {
        "colab": {
          "base_uri": "https://localhost:8080/"
        },
        "id": "PvEHpMgF6GJu",
        "outputId": "58b7213b-5fdc-4440-aecb-19797bd6ff84"
      },
      "execution_count": null,
      "outputs": [
        {
          "output_type": "execute_result",
          "data": {
            "text/plain": [
              "array([0, 1, 2, 3, 4, 5])"
            ]
          },
          "metadata": {},
          "execution_count": 12
        }
      ]
    },
    {
      "cell_type": "code",
      "source": [
        "#Modificando o corte\n",
        "slice_of_arr[:] = 99\n",
        "\n",
        "#Mostrando o corte novamente\n",
        "slice_of_arr"
      ],
      "metadata": {
        "colab": {
          "base_uri": "https://localhost:8080/"
        },
        "id": "tV-JUdZj6cRP",
        "outputId": "9128c1f3-b2f7-4b75-c7af-75d26d86f9ce"
      },
      "execution_count": null,
      "outputs": [
        {
          "output_type": "execute_result",
          "data": {
            "text/plain": [
              "array([99, 99, 99, 99, 99, 99])"
            ]
          },
          "metadata": {},
          "execution_count": 13
        }
      ]
    },
    {
      "cell_type": "markdown",
      "source": [
        "Note como as mudanças também ocorrem na nossa array original"
      ],
      "metadata": {
        "id": "6FPad-yQ6tPR"
      }
    },
    {
      "cell_type": "code",
      "source": [
        "arr"
      ],
      "metadata": {
        "colab": {
          "base_uri": "https://localhost:8080/"
        },
        "id": "0OZutvaA6pnP",
        "outputId": "ba3d8cbb-94ef-491a-bb6c-a4e7a4864ce2"
      },
      "execution_count": null,
      "outputs": [
        {
          "output_type": "execute_result",
          "data": {
            "text/plain": [
              "array([99, 99, 99, 99, 99, 99,  6,  7,  8,  9, 10])"
            ]
          },
          "metadata": {},
          "execution_count": 14
        }
      ]
    },
    {
      "cell_type": "markdown",
      "source": [
        "A informação não é copiada, é uma visão da array original! Isto evita problemas na memória!"
      ],
      "metadata": {
        "id": "6Ai8eRE463YN"
      }
    },
    {
      "cell_type": "code",
      "source": [
        "#Para obter uma copy, é preciso ser explícito\n",
        "arr_copy = arr.copy()\n",
        "arr_copy"
      ],
      "metadata": {
        "colab": {
          "base_uri": "https://localhost:8080/"
        },
        "id": "b0zMRCZy6z0O",
        "outputId": "63d4490a-96c1-4706-abc4-06daae3134c7"
      },
      "execution_count": null,
      "outputs": [
        {
          "output_type": "execute_result",
          "data": {
            "text/plain": [
              "array([99, 99, 99, 99, 99, 99,  6,  7,  8,  9, 10])"
            ]
          },
          "metadata": {},
          "execution_count": 16
        }
      ]
    },
    {
      "cell_type": "markdown",
      "source": [
        "####Indexando uma array 2D (matrizes)\n",
        "O formato geral é arr_2d[row][col] ou arr_2d[row,col]"
      ],
      "metadata": {
        "id": "k0SOmkA57kGE"
      }
    },
    {
      "cell_type": "code",
      "source": [
        "arr_2d = np.array(([5,10,15],[20,25,30],[35,40,45]))\n",
        "arr_2d"
      ],
      "metadata": {
        "colab": {
          "base_uri": "https://localhost:8080/"
        },
        "id": "96L36cEF7SjN",
        "outputId": "ddc07fc9-034d-445d-e1aa-dfdff403075e"
      },
      "execution_count": null,
      "outputs": [
        {
          "output_type": "execute_result",
          "data": {
            "text/plain": [
              "array([[ 5, 10, 15],\n",
              "       [20, 25, 30],\n",
              "       [35, 40, 45]])"
            ]
          },
          "metadata": {},
          "execution_count": 17
        }
      ]
    },
    {
      "cell_type": "code",
      "source": [
        "#Indexando linha\n",
        "arr_2d[1]"
      ],
      "metadata": {
        "colab": {
          "base_uri": "https://localhost:8080/"
        },
        "id": "9Be4ghE878i8",
        "outputId": "b829398b-8510-4eb4-eda4-cce53ba913ea"
      },
      "execution_count": null,
      "outputs": [
        {
          "output_type": "execute_result",
          "data": {
            "text/plain": [
              "array([20, 25, 30])"
            ]
          },
          "metadata": {},
          "execution_count": 18
        }
      ]
    },
    {
      "cell_type": "code",
      "source": [
        "#Obtendo um elemento individual\n",
        "arr_2d[1][0]"
      ],
      "metadata": {
        "colab": {
          "base_uri": "https://localhost:8080/"
        },
        "id": "0UT5YTow8EIs",
        "outputId": "9ab7adc0-e881-4a19-f0ec-b15680f0212c"
      },
      "execution_count": null,
      "outputs": [
        {
          "output_type": "execute_result",
          "data": {
            "text/plain": [
              "20"
            ]
          },
          "metadata": {},
          "execution_count": 19
        }
      ]
    },
    {
      "cell_type": "code",
      "source": [
        "#Cortando uma array 2D (slicing)\n",
        "arr_2d[:2,1:]"
      ],
      "metadata": {
        "colab": {
          "base_uri": "https://localhost:8080/"
        },
        "id": "u8K-yxFM8QIj",
        "outputId": "3d6b079c-d697-4265-d6af-9c8f132294fb"
      },
      "execution_count": null,
      "outputs": [
        {
          "output_type": "execute_result",
          "data": {
            "text/plain": [
              "array([[10, 15],\n",
              "       [25, 30]])"
            ]
          },
          "metadata": {},
          "execution_count": 20
        }
      ]
    },
    {
      "cell_type": "code",
      "source": [
        "#Linha de baixa\n",
        "arr_2d[2]"
      ],
      "metadata": {
        "colab": {
          "base_uri": "https://localhost:8080/"
        },
        "id": "N7k4ZQUh80h6",
        "outputId": "cdc8b4e0-24ba-4074-a2b5-52f703bf9291"
      },
      "execution_count": null,
      "outputs": [
        {
          "output_type": "execute_result",
          "data": {
            "text/plain": [
              "array([35, 40, 45])"
            ]
          },
          "metadata": {},
          "execution_count": 21
        }
      ]
    },
    {
      "cell_type": "code",
      "source": [
        "arr_2d[2,:]"
      ],
      "metadata": {
        "colab": {
          "base_uri": "https://localhost:8080/"
        },
        "id": "afb12ZMH9PmR",
        "outputId": "57bcd767-3361-41bb-bd0e-f3af7ab7dacc"
      },
      "execution_count": null,
      "outputs": [
        {
          "output_type": "execute_result",
          "data": {
            "text/plain": [
              "array([35, 40, 45])"
            ]
          },
          "metadata": {},
          "execution_count": 23
        }
      ]
    },
    {
      "cell_type": "markdown",
      "source": [
        "####Indexação Sofisticada (Fancy Indexing)\n",
        "Indexação sofisticada lhe permite selecionar linhas ou colunas inteiras fora de ordem"
      ],
      "metadata": {
        "id": "x8i4QCFx92Jx"
      }
    },
    {
      "cell_type": "code",
      "source": [
        "#Criando uma matrix\n",
        "arr2d = np.zeros((10,10))\n",
        "\n",
        "arr_length = arr2d.shape[1]\n",
        "\n",
        "for i in range(arr_length):\n",
        "  arr2d[i] = i\n",
        "\n",
        "arr2d"
      ],
      "metadata": {
        "colab": {
          "base_uri": "https://localhost:8080/"
        },
        "id": "ycC75wXW-EzI",
        "outputId": "164a46fc-bd8a-402a-f87e-d5404dc9d494"
      },
      "execution_count": null,
      "outputs": [
        {
          "output_type": "execute_result",
          "data": {
            "text/plain": [
              "array([[0., 0., 0., 0., 0., 0., 0., 0., 0., 0.],\n",
              "       [1., 1., 1., 1., 1., 1., 1., 1., 1., 1.],\n",
              "       [2., 2., 2., 2., 2., 2., 2., 2., 2., 2.],\n",
              "       [3., 3., 3., 3., 3., 3., 3., 3., 3., 3.],\n",
              "       [4., 4., 4., 4., 4., 4., 4., 4., 4., 4.],\n",
              "       [5., 5., 5., 5., 5., 5., 5., 5., 5., 5.],\n",
              "       [6., 6., 6., 6., 6., 6., 6., 6., 6., 6.],\n",
              "       [7., 7., 7., 7., 7., 7., 7., 7., 7., 7.],\n",
              "       [8., 8., 8., 8., 8., 8., 8., 8., 8., 8.],\n",
              "       [9., 9., 9., 9., 9., 9., 9., 9., 9., 9.]])"
            ]
          },
          "metadata": {},
          "execution_count": 27
        }
      ]
    },
    {
      "cell_type": "markdown",
      "source": [
        "Fancy indexing permite o seguinte"
      ],
      "metadata": {
        "id": "iD7uUQCA-iIn"
      }
    },
    {
      "cell_type": "code",
      "source": [
        "arr2d[[2,4,6,8]]"
      ],
      "metadata": {
        "colab": {
          "base_uri": "https://localhost:8080/"
        },
        "id": "j1QaHKnj-biX",
        "outputId": "c382e61b-ade0-498f-82b4-1279d8756c17"
      },
      "execution_count": null,
      "outputs": [
        {
          "output_type": "execute_result",
          "data": {
            "text/plain": [
              "array([[2., 2., 2., 2., 2., 2., 2., 2., 2., 2.],\n",
              "       [4., 4., 4., 4., 4., 4., 4., 4., 4., 4.],\n",
              "       [6., 6., 6., 6., 6., 6., 6., 6., 6., 6.],\n",
              "       [8., 8., 8., 8., 8., 8., 8., 8., 8., 8.]])"
            ]
          },
          "metadata": {},
          "execution_count": 28
        }
      ]
    },
    {
      "cell_type": "code",
      "source": [
        "#Em qualquer ordem\n",
        "arr2d[[6,4,2,7]]"
      ],
      "metadata": {
        "colab": {
          "base_uri": "https://localhost:8080/"
        },
        "id": "vfGwcZQ8-ryH",
        "outputId": "c176761d-8985-4850-df90-663a2c7e9476"
      },
      "execution_count": null,
      "outputs": [
        {
          "output_type": "execute_result",
          "data": {
            "text/plain": [
              "array([[6., 6., 6., 6., 6., 6., 6., 6., 6., 6.],\n",
              "       [4., 4., 4., 4., 4., 4., 4., 4., 4., 4.],\n",
              "       [2., 2., 2., 2., 2., 2., 2., 2., 2., 2.],\n",
              "       [7., 7., 7., 7., 7., 7., 7., 7., 7., 7.]])"
            ]
          },
          "metadata": {},
          "execution_count": 30
        }
      ]
    },
    {
      "cell_type": "markdown",
      "source": [
        "#Mais ajuda na Indexação\n",
        "Indexar uma matriz 2d pode ser um pouco confuso no princípio, especialmente quando se começa a adicionar o tamanho do passo\n",
        "![Numpy1.jpg](data:image/jpeg;base64,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)"
      ],
      "metadata": {
        "id": "ti-ZmdiA_SDd"
      }
    },
    {
      "cell_type": "markdown",
      "source": [
        "####Seleção\n",
        "Iremos utilizar os colchetes para fazer algumas seleções utilizando operadores de comparação"
      ],
      "metadata": {
        "id": "QEEbZhyj__C1"
      }
    },
    {
      "cell_type": "code",
      "source": [
        "arr = np.arange(1,11)\n",
        "arr"
      ],
      "metadata": {
        "colab": {
          "base_uri": "https://localhost:8080/"
        },
        "id": "vTdIDdBq_Q92",
        "outputId": "e06c6d0d-69b4-4d88-8e51-4f5eaaa319e7"
      },
      "execution_count": null,
      "outputs": [
        {
          "output_type": "execute_result",
          "data": {
            "text/plain": [
              "array([ 1,  2,  3,  4,  5,  6,  7,  8,  9, 10])"
            ]
          },
          "metadata": {},
          "execution_count": 33
        }
      ]
    },
    {
      "cell_type": "code",
      "source": [
        "arr > 4"
      ],
      "metadata": {
        "colab": {
          "base_uri": "https://localhost:8080/"
        },
        "id": "EeuVYes6AM_k",
        "outputId": "c2ba1b2f-1926-4fde-e5bd-69fc1583d662"
      },
      "execution_count": null,
      "outputs": [
        {
          "output_type": "execute_result",
          "data": {
            "text/plain": [
              "array([False, False, False, False,  True,  True,  True,  True,  True,\n",
              "        True])"
            ]
          },
          "metadata": {},
          "execution_count": 34
        }
      ]
    },
    {
      "cell_type": "code",
      "source": [
        "bool_arr = arr>4\n",
        "bool_arr"
      ],
      "metadata": {
        "colab": {
          "base_uri": "https://localhost:8080/"
        },
        "id": "HweGr8DoAQIE",
        "outputId": "3e22b861-8f28-47d5-92e8-cbd41e9be315"
      },
      "execution_count": null,
      "outputs": [
        {
          "output_type": "execute_result",
          "data": {
            "text/plain": [
              "array([False, False, False, False,  True,  True,  True,  True,  True,\n",
              "        True])"
            ]
          },
          "metadata": {},
          "execution_count": 37
        }
      ]
    },
    {
      "cell_type": "code",
      "source": [
        "arr[bool_arr]"
      ],
      "metadata": {
        "colab": {
          "base_uri": "https://localhost:8080/"
        },
        "id": "OfK7T049AWWz",
        "outputId": "4a663663-0208-4f7c-d035-85885974f516"
      },
      "execution_count": null,
      "outputs": [
        {
          "output_type": "execute_result",
          "data": {
            "text/plain": [
              "array([ 5,  6,  7,  8,  9, 10])"
            ]
          },
          "metadata": {},
          "execution_count": 38
        }
      ]
    },
    {
      "cell_type": "code",
      "source": [
        "arr[arr>2]"
      ],
      "metadata": {
        "colab": {
          "base_uri": "https://localhost:8080/"
        },
        "id": "2hLK4EdgAZWr",
        "outputId": "914b5a72-c00f-451a-c1b9-6eeeecf78a28"
      },
      "execution_count": null,
      "outputs": [
        {
          "output_type": "execute_result",
          "data": {
            "text/plain": [
              "array([ 3,  4,  5,  6,  7,  8,  9, 10])"
            ]
          },
          "metadata": {},
          "execution_count": 39
        }
      ]
    },
    {
      "cell_type": "code",
      "source": [
        "x = 2\n",
        "arr[arr>x]"
      ],
      "metadata": {
        "colab": {
          "base_uri": "https://localhost:8080/"
        },
        "id": "wDo05l8LAfoD",
        "outputId": "133a45a9-c4c3-466a-aa91-feed85da26e9"
      },
      "execution_count": null,
      "outputs": [
        {
          "output_type": "execute_result",
          "data": {
            "text/plain": [
              "array([ 3,  4,  5,  6,  7,  8,  9, 10])"
            ]
          },
          "metadata": {},
          "execution_count": 40
        }
      ]
    }
  ]
}