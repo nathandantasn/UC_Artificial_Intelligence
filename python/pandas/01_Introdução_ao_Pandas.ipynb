{
  "cells": [
    {
      "cell_type": "markdown",
      "metadata": {
        "collapsed": true,
        "id": "XUmaUXRsBDwz"
      },
      "source": [
        "#Introdução aos Pandas\n",
        "\n",
        "Aprenderemos agora como usar o pandas para análise de dados. É possível pensar no pandas como uma versão extremamente poderosa do Excel, com muito mais recursos. Nesta seção do curso iremos percorrer os itens da seguinte forma:\n",
        "\n",
        "* Introdução aos Pandas\n",
        "* Series\n",
        "* DataFrames\n",
        "* Dados ausentes\n",
        "* Agrupar por\n",
        "* Mesclando, Unindo e Concatenando\n",
        "* Operações\n",
        "* Entrada e Saída de Dados"
      ]
    },
    {
      "cell_type": "markdown",
      "metadata": {
        "id": "4NTZaCd3BDw0"
      },
      "source": [
        "___"
      ]
    }
  ],
  "metadata": {
    "kernelspec": {
      "display_name": "Python 3",
      "language": "python",
      "name": "python3"
    },
    "language_info": {
      "codemirror_mode": {
        "name": "ipython",
        "version": 3
      },
      "file_extension": ".py",
      "mimetype": "text/x-python",
      "name": "python",
      "nbconvert_exporter": "python",
      "pygments_lexer": "ipython3",
      "version": "3.5.1"
    },
    "colab": {
      "provenance": [],
      "collapsed_sections": []
    }
  },
  "nbformat": 4,
  "nbformat_minor": 0
}