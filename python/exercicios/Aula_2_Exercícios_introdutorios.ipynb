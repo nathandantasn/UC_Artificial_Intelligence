{
 "cells": [
  {
   "cell_type": "code",
   "execution_count": 1,
   "id": "31f6fe37",
   "metadata": {},
   "outputs": [
    {
     "data": {
      "text/plain": [
       "2401"
      ]
     },
     "execution_count": 1,
     "metadata": {},
     "output_type": "execute_result"
    }
   ],
   "source": [
    "7**4"
   ]
  },
  {
   "cell_type": "markdown",
   "id": "6b52c922",
   "metadata": {},
   "source": [
    "2) Separe a string:\n",
    " \n",
    "s = 'Eu não gosto de abacate!'"
   ]
  },
  {
   "cell_type": "code",
   "execution_count": 4,
   "id": "1f95e824",
   "metadata": {},
   "outputs": [
    {
     "name": "stdout",
     "output_type": "stream",
     "text": [
      "['Eu', 'não', 'gosto', 'de', 'abacate!']\n"
     ]
    }
   ],
   "source": [
    "s = 'Eu não gosto de abacate!'\n",
    "lst = s.split()\n",
    "print(lst)"
   ]
  },
  {
   "cell_type": "markdown",
   "id": "7b085d48",
   "metadata": {},
   "source": [
    "3) Dadas as variáveis:\n",
    " \n",
    "planeta = \"Terra\"\n",
    " \n",
    "diametro = 12742\n",
    "Utilize .format() para imprimir a string:\n",
    "\n",
    "O diâmetro da Terra é 12742 km."
   ]
  },
  {
   "cell_type": "code",
   "execution_count": 5,
   "id": "db646f4c",
   "metadata": {},
   "outputs": [
    {
     "name": "stdout",
     "output_type": "stream",
     "text": [
      "O diâmetro da Terra é 12742 km\n"
     ]
    }
   ],
   "source": [
    "planeta = \"Terra\"\n",
    "\n",
    "diametro = 12742\n",
    "\n",
    "print('O diâmetro da {} é {} km'.format(planeta, diametro))"
   ]
  },
  {
   "cell_type": "markdown",
   "id": "c5f5f25a",
   "metadata": {},
   "source": [
    "3) Utilize índices para obter a palavra \"Alvo\"\n",
    " \n",
    "lst = [1,2,[3,4],[5,[100,200,[\"Alvo\"]],23,11],1,7]"
   ]
  },
  {
   "cell_type": "code",
   "execution_count": 6,
   "id": "20ca32f4",
   "metadata": {},
   "outputs": [
    {
     "data": {
      "text/plain": [
       "'Alvo'"
      ]
     },
     "execution_count": 6,
     "metadata": {},
     "output_type": "execute_result"
    }
   ],
   "source": [
    "lst = [1,2,[3,4],[5,[100,200,[\"Alvo\"]],23,11],1,7]\n",
    "\n",
    "lst[3][1][2][0]"
   ]
  },
  {
   "cell_type": "markdown",
   "id": "34f72efa",
   "metadata": {},
   "source": [
    "4) Utilize chaves/índices para obter a palavra \"Alvo\"\n",
    " \n",
    "d = {'k1':[1,2,3,{'tricky':['oh','man','inception',{'target':[1,2,3,'Alvo']}]}]}"
   ]
  },
  {
   "cell_type": "code",
   "execution_count": 13,
   "id": "827d7544",
   "metadata": {},
   "outputs": [
    {
     "data": {
      "text/plain": [
       "'Alvo'"
      ]
     },
     "execution_count": 13,
     "metadata": {},
     "output_type": "execute_result"
    }
   ],
   "source": [
    "d = {'k1':[1,2,3,{'tricky':['oh','man','inception',{'target':[1,2,3,'Alvo']}]}]}\n",
    "\n",
    "d['k1'][3]['tricky'][3]['target'][3]"
   ]
  },
  {
   "cell_type": "markdown",
   "id": "8812f8a3",
   "metadata": {},
   "source": [
    "5) Qual a principal diferença entre uma tupla e uma lista?"
   ]
  },
  {
   "cell_type": "code",
   "execution_count": null,
   "id": "40bf7a97",
   "metadata": {},
   "outputs": [],
   "source": [
    "A tupla não pode ser alterada , enquanto a lista pode ser"
   ]
  }
 ],
 "metadata": {
  "kernelspec": {
   "display_name": "Python 3.10.4 64-bit",
   "language": "python",
   "name": "python3"
  },
  "language_info": {
   "codemirror_mode": {
    "name": "ipython",
    "version": 3
   },
   "file_extension": ".py",
   "mimetype": "text/x-python",
   "name": "python",
   "nbconvert_exporter": "python",
   "pygments_lexer": "ipython3",
   "version": "3.10.4"
  },
  "vscode": {
   "interpreter": {
    "hash": "85c04cea8495852ae269256a76fb6fcb3cb8a3b67e0a47310f6202e687b8264b"
   }
  }
 },
 "nbformat": 4,
 "nbformat_minor": 5
}
